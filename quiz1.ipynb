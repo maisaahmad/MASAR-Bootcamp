{
  "nbformat": 4,
  "nbformat_minor": 0,
  "metadata": {
    "colab": {
      "provenance": [],
      "authorship_tag": "ABX9TyMqsIZFiub4lxIyWy85W9/e",
      "include_colab_link": true
    },
    "kernelspec": {
      "name": "python3",
      "display_name": "Python 3"
    },
    "language_info": {
      "name": "python"
    }
  },
  "cells": [
    {
      "cell_type": "markdown",
      "metadata": {
        "id": "view-in-github",
        "colab_type": "text"
      },
      "source": [
        "<a href=\"https://colab.research.google.com/github/maisaahmad/MASAR-Bootcamp/blob/main/quiz1.ipynb\" target=\"_parent\"><img src=\"https://colab.research.google.com/assets/colab-badge.svg\" alt=\"Open In Colab\"/></a>"
      ]
    },
    {
      "cell_type": "code",
      "execution_count": 9,
      "metadata": {
        "colab": {
          "base_uri": "https://localhost:8080/"
        },
        "id": "F9D1GHk9j9yV",
        "outputId": "976be391-5a38-42c6-e103-ae35133db656"
      },
      "outputs": [
        {
          "output_type": "stream",
          "name": "stdout",
          "text": [
            "[1, 3]\n"
          ]
        }
      ],
      "source": [
        "#فلتعتبر أن لديك مصفوفة فيها عدة أرقام, حاول أن تجد عددين يكون المجموع عدد معرف مسبق معطى لك. فلنفرض أن المجموع موجود في هذه المصفوفة\n",
        "from typing import List\n",
        "\n",
        "def sumtwo(nums: List[int], target: int) -> List[int]:\n",
        "    prevMap = {}  # Store the previous element (value: index)\n",
        "\n",
        "    # Check every element enumerate get value(n):index(i)\n",
        "    for i, n in enumerate(nums):\n",
        "        requireval = target - n\n",
        "\n",
        "        # Check if the other element is in the hash map\n",
        "        if requireval in prevMap:\n",
        "            return [prevMap[requireval], i]#found ,return the two indices\n",
        "\n",
        "        # If not found, update the hash map\n",
        "        prevMap[n] = i\n",
        "\n",
        "\n",
        "# Call the function\n",
        "result = sumtwo([2, 7, 11, 15], 22)\n",
        "print(result)"
      ]
    }
  ]
}