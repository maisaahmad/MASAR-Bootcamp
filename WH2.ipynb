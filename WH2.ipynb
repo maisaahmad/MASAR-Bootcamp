{
  "nbformat": 4,
  "nbformat_minor": 0,
  "metadata": {
    "colab": {
      "provenance": [],
      "authorship_tag": "ABX9TyNGzBoQX8oxR4A6tF01PYqf"
    },
    "kernelspec": {
      "name": "python3",
      "display_name": "Python 3"
    },
    "language_info": {
      "name": "python"
    }
  },
  "cells": [
    {
      "cell_type": "code",
      "execution_count": 22,
      "metadata": {
        "colab": {
          "base_uri": "https://localhost:8080/"
        },
        "id": "RrEwH7jAtM_O",
        "outputId": "070cfcfb-688b-436b-c7cc-14c61ae1b333"
      },
      "outputs": [
        {
          "output_type": "stream",
          "name": "stdout",
          "text": [
            "bouns rate : 15.0%\n"
          ]
        }
      ],
      "source": [
        "#لديكم نظام تقييم ومكافآت للعاملين بناءً على عدد سنوات الخبرة وتقييم أدائهم.\n",
        "def calculate_bonus(years, evaluation):\n",
        "    if years <= 10:\n",
        "        if evaluation == \"Excellent\" or evaluation == \"excellent\":\n",
        "            bonus_percentage = 0.10\n",
        "        elif evaluation == \"Poor\" or evaluation == \"poor\":\n",
        "            bonus_percentage = 0.05\n",
        "        else:\n",
        "            bonus_percentage = 0\n",
        "    else:\n",
        "        if evaluation == \"Excellent\" or evaluation == \"excellent\":\n",
        "            bonus_percentage = 0.20\n",
        "        elif evaluation == \"Poor\" or evaluation == \"poor\":\n",
        "            bonus_percentage = 0.15\n",
        "        else:\n",
        "            bonus_percentage = 0\n",
        "\n",
        "    return bonus_percentage\n",
        "\n",
        "\n",
        "# تعيين القيم\n",
        "employee_years = 11\n",
        "employee_evaluation = \"poor\"\n",
        "\n",
        "# حساب المكافأة\n",
        "bonus = calculate_bonus(employee_years, employee_evaluation)\n",
        "\n",
        "# طباعة نتيجة الحساب\n",
        "print(f\"bouns rate : {bonus * 100}%\")"
      ]
    }
  ]
}